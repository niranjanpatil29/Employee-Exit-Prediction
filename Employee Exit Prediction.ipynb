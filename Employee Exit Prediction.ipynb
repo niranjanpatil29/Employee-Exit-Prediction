{
  "nbformat": 4,
  "nbformat_minor": 0,
  "metadata": {
    "colab": {
      "provenance": []
    },
    "kernelspec": {
      "name": "python3",
      "display_name": "Python 3"
    },
    "language_info": {
      "name": "python"
    }
  },
  "cells": [
    {
      "cell_type": "code",
      "source": [
        "import warnings\n",
        "warnings.filterwarnings('ignore')"
      ],
      "metadata": {
        "id": "hFxn5EZfFnp4"
      },
      "execution_count": 64,
      "outputs": []
    },
    {
      "cell_type": "code",
      "source": [
        "import pandas as pd\n",
        "hr = pd.read_csv('Employee_Data.csv')\n",
        "col_names = hr.columns.tolist()\n",
        "print(\"Column names:\")\n",
        "print(col_names)\n",
        "print(\"\\nSample data:\")\n",
        "hr.head()"
      ],
      "metadata": {
        "id": "y55Kq5hpFr1N"
      },
      "execution_count": null,
      "outputs": []
    },
    {
      "cell_type": "code",
      "source": [
        "hr.info()"
      ],
      "metadata": {
        "id": "_WAb0Sf7FxTN"
      },
      "execution_count": null,
      "outputs": []
    },
    {
      "cell_type": "code",
      "source": [
        "hr.shape"
      ],
      "metadata": {
        "colab": {
          "base_uri": "https://localhost:8080/"
        },
        "id": "NxTJRTVAF1XE",
        "outputId": "49b6d799-de4c-4c13-f998-9111d1c3d132"
      },
      "execution_count": 67,
      "outputs": [
        {
          "output_type": "execute_result",
          "data": {
            "text/plain": [
              "(11991, 10)"
            ]
          },
          "metadata": {},
          "execution_count": 67
        }
      ]
    },
    {
      "cell_type": "code",
      "source": [
        "hr.isnull().sum()"
      ],
      "metadata": {
        "id": "vFYGa0coF2W8"
      },
      "execution_count": null,
      "outputs": []
    },
    {
      "cell_type": "code",
      "source": [
        "hr.duplicated().sum()"
      ],
      "metadata": {
        "id": "-v9V_PaUF2gN"
      },
      "execution_count": null,
      "outputs": []
    },
    {
      "cell_type": "markdown",
      "source": [
        "##**Checking Positive and Negative Instances**"
      ],
      "metadata": {
        "id": "nDDohyivH-gy"
      }
    },
    {
      "cell_type": "code",
      "source": [
        "positive_instances = hr[hr['left'] == 1].shape[0]\n",
        "negative_instances = hr[hr['left'] == 0].shape[0]\n",
        "\n",
        "total_instances = hr.shape[0]\n",
        "\n",
        "positive_percentage = (positive_instances / total_instances) * 100\n",
        "negative_percentage = (negative_instances / total_instances) * 100\n",
        "\n",
        "print(\"Percentage of positive instances (employees who have left): {:.2f}%\".format(positive_percentage))\n",
        "print(\"Percentage of negative instances (employees who have not left): {:.2f}%\".format(negative_percentage))"
      ],
      "metadata": {
        "id": "NKV2N7eZF7x-"
      },
      "execution_count": null,
      "outputs": []
    },
    {
      "cell_type": "code",
      "source": [
        "hr['departments'].unique()"
      ],
      "metadata": {
        "id": "E_eQk2LvGAIE"
      },
      "execution_count": null,
      "outputs": []
    },
    {
      "cell_type": "code",
      "source": [
        "import numpy as np\n",
        "hr['departments']=np.where(hr['departments'] =='support', 'technical', hr['departments'])\n",
        "hr['departments']=np.where(hr['departments'] =='IT', 'technical', hr['departments'])"
      ],
      "metadata": {
        "id": "_QeCbqB6GEFj"
      },
      "execution_count": 72,
      "outputs": []
    },
    {
      "cell_type": "code",
      "source": [
        "cat_vars=['departments','salary']\n",
        "for var in cat_vars:\n",
        "    cat_list='var'+'_'+var\n",
        "    cat_list = pd.get_dummies(hr[var], prefix=var)\n",
        "    hr1=hr.join(cat_list)\n",
        "    hr=hr1"
      ],
      "metadata": {
        "id": "HrOC7Ze7GFTX"
      },
      "execution_count": 73,
      "outputs": []
    },
    {
      "cell_type": "code",
      "source": [
        "hr.drop(hr.columns[[8, 9]], axis=1, inplace=True)\n",
        "hr.columns.values"
      ],
      "metadata": {
        "id": "wzHA5HXHGIMY"
      },
      "execution_count": null,
      "outputs": []
    },
    {
      "cell_type": "code",
      "source": [
        "hr_vars=hr.columns.values.tolist()\n",
        "y=['left']\n",
        "X=[i for i in hr_vars if i not in y]"
      ],
      "metadata": {
        "id": "32YOI3SzGIOh"
      },
      "execution_count": 75,
      "outputs": []
    },
    {
      "cell_type": "markdown",
      "source": [
        "## **Feature Selection Process**"
      ],
      "metadata": {
        "id": "5LU5dny1IUfo"
      }
    },
    {
      "cell_type": "code",
      "source": [
        "from sklearn.feature_selection import RFE\n",
        "from sklearn.ensemble import RandomForestClassifier\n",
        "\n",
        "rf_model = RandomForestClassifier()\n",
        "rfe_rf = RFE(estimator=rf_model, n_features_to_select=10)\n",
        "rfe_rf = rfe_rf.fit(hr[X], hr[y])\n",
        "\n",
        "print(\"Selected features using Random Forest:\")\n",
        "print(rfe_rf.support_)\n",
        "print(\"Feature ranking:\")\n",
        "print(rfe_rf.ranking_)"
      ],
      "metadata": {
        "id": "vRFXj7UCGIRH"
      },
      "execution_count": null,
      "outputs": []
    },
    {
      "cell_type": "code",
      "source": [
        "X_df = hr[X]\n",
        "selected_columns = X_df.columns[rfe_rf.support_]\n",
        "print(selected_columns)"
      ],
      "metadata": {
        "id": "KBZ1yoA2GITN"
      },
      "execution_count": null,
      "outputs": []
    },
    {
      "cell_type": "code",
      "source": [
        "cols=['satisfaction_level', 'last_evaluation', 'number_project',\n",
        "       'average_montly_hours', 'time_spend_company', 'work_accident',\n",
        "       'promotion_last_5years', 'departments_sales', 'departments_technical',\n",
        "       'salary_high']\n",
        "X=hr[cols]\n",
        "y=hr['left']"
      ],
      "metadata": {
        "id": "j1lQB4seGZFX"
      },
      "execution_count": 78,
      "outputs": []
    },
    {
      "cell_type": "markdown",
      "source": [
        "### **Logistic Regression**"
      ],
      "metadata": {
        "id": "vGoZTEx3Gghk"
      }
    },
    {
      "cell_type": "code",
      "source": [
        "from sklearn.model_selection import train_test_split\n",
        "X_train, X_test, y_train, y_test = train_test_split(X, y, test_size=0.3, random_state=0)\n",
        "from sklearn.linear_model import LogisticRegression\n",
        "from sklearn import metrics\n",
        "logreg = LogisticRegression()\n",
        "logreg.fit(X_train, y_train)"
      ],
      "metadata": {
        "id": "x4twSH_dGkuf"
      },
      "execution_count": null,
      "outputs": []
    },
    {
      "cell_type": "code",
      "source": [
        "from sklearn.metrics import accuracy_score\n",
        "print('Logistic regression accuracy: {:.3f}'.format(accuracy_score(y_test, logreg.predict(X_test))))"
      ],
      "metadata": {
        "id": "voHLpHNEGtXx"
      },
      "execution_count": null,
      "outputs": []
    },
    {
      "cell_type": "markdown",
      "source": [
        "## **Random Forest Classifier**"
      ],
      "metadata": {
        "id": "Wst2LizgInCB"
      }
    },
    {
      "cell_type": "code",
      "source": [
        "from sklearn.ensemble import RandomForestClassifier\n",
        "rf = RandomForestClassifier()\n",
        "rf.fit(X_train, y_train)"
      ],
      "metadata": {
        "id": "AqGmHgi7Gv9Y"
      },
      "execution_count": null,
      "outputs": []
    },
    {
      "cell_type": "code",
      "source": [
        "print('Random Forest Accuracy: {:.3f}'.format(accuracy_score(y_test, rf.predict(X_test))))"
      ],
      "metadata": {
        "id": "cYM6TlToGxx2"
      },
      "execution_count": null,
      "outputs": []
    },
    {
      "cell_type": "markdown",
      "source": [
        "## **Support Vector Classifier**"
      ],
      "metadata": {
        "id": "fklsXlp2JprU"
      }
    },
    {
      "cell_type": "code",
      "source": [
        "from sklearn.model_selection import train_test_split\n",
        "from sklearn.svm import SVC\n",
        "from sklearn.metrics import accuracy_score\n",
        "X_train, X_test, y_train, y_test = train_test_split(X, y, test_size=0.3, random_state=0)\n",
        "svm = SVC()\n",
        "svm.fit(X_train, y_train)"
      ],
      "metadata": {
        "id": "n6PCC3AjG2WI"
      },
      "execution_count": null,
      "outputs": []
    },
    {
      "cell_type": "code",
      "source": [
        "print('Support Vector Machine Accuracy: {:.3f}'.format(accuracy_score(y_test,svm.predict(X_test))))"
      ],
      "metadata": {
        "id": "Iwb3UXc8G5iv"
      },
      "execution_count": null,
      "outputs": []
    },
    {
      "cell_type": "markdown",
      "source": [
        "## **Classification Report and Confusion Matrix for Logistic Regression**"
      ],
      "metadata": {
        "id": "0mVmU_lAJvCv"
      }
    },
    {
      "cell_type": "code",
      "source": [
        "from sklearn.metrics import classification_report\n",
        "print(classification_report(y_test, logreg.predict(X_test)))\n"
      ],
      "metadata": {
        "id": "DNBoimEHHTMX"
      },
      "execution_count": null,
      "outputs": []
    },
    {
      "cell_type": "code",
      "source": [
        "from sklearn.metrics import confusion_matrix\n",
        "import matplotlib.pyplot as plt\n",
        "import seaborn as sns\n",
        "logreg_y_pred = logreg.predict(X_test)\n",
        "logreg_cm = metrics.confusion_matrix(logreg_y_pred, y_test)\n",
        "sns.heatmap(logreg_cm, annot=True, fmt='.2f',xticklabels = [\"Left\", \"Stayed\"] , yticklabels = [\"Left\", \"Stayed\"] )\n",
        "plt.ylabel('True class')\n",
        "plt.xlabel('Predicted class')\n",
        "plt.title('Logistic Regression')"
      ],
      "metadata": {
        "id": "uhdvw7cDHTwf"
      },
      "execution_count": null,
      "outputs": []
    },
    {
      "cell_type": "markdown",
      "source": [
        "## **Classification Report and Confusion Matrix for Random Forest**"
      ],
      "metadata": {
        "id": "mPyuHkB-KLni"
      }
    },
    {
      "cell_type": "code",
      "source": [
        "print(classification_report(y_test, rf.predict(X_test)))"
      ],
      "metadata": {
        "id": "P4HxzbIKHTyr"
      },
      "execution_count": null,
      "outputs": []
    },
    {
      "cell_type": "code",
      "source": [
        "y_pred = rf.predict(X_test)\n",
        "forest_cm = metrics.confusion_matrix(y_pred, y_test)\n",
        "sns.heatmap(forest_cm, annot=True, fmt='.2f',xticklabels = [\"Left\", \"Stayed\"] , yticklabels = [\"Left\", \"Stayed\"] )\n",
        "plt.ylabel('True class')\n",
        "plt.xlabel('Predicted class')\n",
        "plt.title('Random Forest')"
      ],
      "metadata": {
        "id": "vz23PY8SHT5f"
      },
      "execution_count": null,
      "outputs": []
    },
    {
      "cell_type": "markdown",
      "source": [],
      "metadata": {
        "id": "CPrgfMmuKgaH"
      }
    },
    {
      "cell_type": "markdown",
      "source": [
        "## **Classification Report and Confusion Matrix for Support Vector Classifier**"
      ],
      "metadata": {
        "id": "QAIrCFZCKeBV"
      }
    },
    {
      "cell_type": "code",
      "source": [
        "print(classification_report(y_test,svm.predict(X_test)))"
      ],
      "metadata": {
        "id": "w8vhvFo6HlSm"
      },
      "execution_count": null,
      "outputs": []
    },
    {
      "cell_type": "code",
      "source": [
        "import seaborn as sns\n",
        "from sklearn.metrics import confusion_matrix\n",
        "\n",
        "y_pred_svm = svm.predict(X_test)\n",
        "svm_cm = confusion_matrix(y_pred_svm,y_test)\n",
        "sns.heatmap(svm_cm, annot=True, fmt='.2f', xticklabels=[\"Left\", \"Stayed\"], yticklabels=[\"Left\", \"Stayed\"])\n",
        "plt.ylabel('True class')\n",
        "plt.xlabel('Predicted class')\n",
        "plt.title('Support Vector Machine Confusion Matrix')\n",
        "plt.show()"
      ],
      "metadata": {
        "id": "FXxSOHfaHlU0"
      },
      "execution_count": null,
      "outputs": []
    },
    {
      "cell_type": "markdown",
      "source": [
        "# **ROC Curve**"
      ],
      "metadata": {
        "id": "Gp4AOd5qKi5p"
      }
    },
    {
      "cell_type": "code",
      "source": [
        "from sklearn.metrics import roc_auc_score, roc_curve\n",
        "from sklearn.svm import SVC\n",
        "import matplotlib.pyplot as plt\n",
        "\n",
        "logit_roc_auc = roc_auc_score(y_test, logreg.predict(X_test))\n",
        "fpr, tpr, thresholds = roc_curve(y_test, logreg.predict_proba(X_test)[:,1])\n",
        "\n",
        "rf_roc_auc = roc_auc_score(y_test, rf.predict(X_test))\n",
        "rf_fpr, rf_tpr, rf_thresholds = roc_curve(y_test, rf.predict_proba(X_test)[:,1])\n",
        "\n",
        "svm = SVC(probability=True)\n",
        "svm.fit(X_test, y_test)\n",
        "\n",
        "svm_roc_auc = roc_auc_score(y_test, svm.predict(X_test))\n",
        "svm_fpr, svm_tpr, svm_thresholds = roc_curve(y_test, svm.predict_proba(X_test)[:,1])\n",
        "\n",
        "plt.figure(figsize=(13,8))\n",
        "plt.plot(fpr, tpr, label='Logistic Regression (area = %0.2f)' % logit_roc_auc)\n",
        "plt.plot(rf_fpr, rf_tpr, label='Random Forest (area = %0.2f)' % rf_roc_auc)\n",
        "plt.plot(svm_fpr, svm_tpr, label='Support Vector Machine (area = %0.2f)' % svm_roc_auc)\n",
        "plt.plot([0, 1], [0, 1],'r--')\n",
        "plt.xlim([0.0, 1.0])\n",
        "plt.ylim([0.0, 1.05])\n",
        "plt.xlabel('False Positive Rate')\n",
        "plt.ylabel('True Positive Rate')\n",
        "plt.title('Receiver Operating Characteristic')\n",
        "plt.legend(loc=\"lower right\")\n",
        "plt.show()"
      ],
      "metadata": {
        "id": "rQ9Q16asHlXS"
      },
      "execution_count": null,
      "outputs": []
    },
    {
      "cell_type": "markdown",
      "source": [
        "# **Feature Importance**"
      ],
      "metadata": {
        "id": "PFr_-OmFKqoB"
      }
    },
    {
      "cell_type": "code",
      "source": [
        "feature_labels = np.array(['satisfaction_level', 'last_evaluation', 'number_project',\n",
        "       'average_montly_hours', 'time_spend_company', 'work_accident',\n",
        "       'promotion_last_5years', 'departments_sales', 'departments_technical',\n",
        "       'salary_high'])\n",
        "importance = rf.feature_importances_\n",
        "feature_indexes_by_importance = importance.argsort()\n",
        "for index in feature_indexes_by_importance:\n",
        "    print('{}-{:.2f}%'.format(feature_labels[index], (importance[index] *100.0)))"
      ],
      "metadata": {
        "id": "0OCJD0jrHlbq"
      },
      "execution_count": null,
      "outputs": []
    },
    {
      "cell_type": "markdown",
      "source": [
        "# **Feature Importance Visualization**"
      ],
      "metadata": {
        "id": "-7Q7Nm_HKxOw"
      }
    },
    {
      "cell_type": "code",
      "source": [
        "import matplotlib.pyplot as plt\n",
        "\n",
        "categories = feature_labels\n",
        "percentages = importance * 100.0\n",
        "\n",
        "sorted_data = sorted(zip(categories, percentages), key=lambda x: x[1])\n",
        "\n",
        "sorted_categories, sorted_percentages = zip(*sorted_data)\n",
        "\n",
        "plt.figure(figsize=(13, 8))\n",
        "bars = plt.barh(sorted_categories, sorted_percentages, color='orange')\n",
        "plt.xlabel('Percentage (%)')\n",
        "plt.ylabel('Features')\n",
        "plt.title('Percentage Contribution of Features')\n",
        "\n",
        "for bar, percentage in zip(bars, sorted_percentages):\n",
        "    plt.text(bar.get_width(), bar.get_y() + bar.get_height() / 2,\n",
        "             '{:.2f}%'.format(percentage),\n",
        "             va='center')\n",
        "plt.show()"
      ],
      "metadata": {
        "id": "u_TsU4I0H5JL"
      },
      "execution_count": null,
      "outputs": []
    }
  ]
}